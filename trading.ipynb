{
 "cells": [
  {
   "cell_type": "code",
   "execution_count": null,
   "metadata": {},
   "outputs": [],
   "source": [
    "from lumibot.brokers import Alpaca\n",
    "from lumibot.backtesting import YahooDataBacktesting\n",
    "from lumibot.strategies.strategy import Strategy\n",
    "from lumibot.traders import Trader\n",
    "from datetime import datetime"
   ]
  },
  {
   "cell_type": "code",
   "execution_count": null,
   "metadata": {},
   "outputs": [],
   "source": []
  },
  {
   "cell_type": "code",
   "execution_count": null,
   "metadata": {},
   "outputs": [],
   "source": []
  },
  {
   "cell_type": "code",
   "execution_count": null,
   "metadata": {},
   "outputs": [],
   "source": [
    "API_KEY= 'PKJHYUEHVBESQUYLQJ5Z'\n",
    "API_SECRET=\"tukk96fcOY5cIyBdKCTTsyoA8dpR0M5DzS8WFjXF\"\n",
    "BASE_URL = 'https://paper-api.alpaca.markets/v2'\n",
    "\n",
    "ALPACA_CREDS = {\n",
    "    'API_KEY':API_KEY,\n",
    "    'API_SECRET':API_SECRET,\n",
    "    'PAPER':True\n",
    "}\n",
    "start_date=datetime(2023,11,15)\n",
    "end_date=datetime(2023,12,31)\n",
    "class MLTrader(Strategy):\n",
    "    def initialize(self,symbol:str=\"SPY\"):\n",
    "        self.symbol = symbol\n",
    "        self.sleeptime = '24H'\n",
    "        self.last_trade = None\n",
    "        pass\n",
    "    def on_trading_iteration(self):\n",
    "        if self.last_trade==None:\n",
    "            order = self.create_order(\n",
    "                self.symbol,\n",
    "                10,\n",
    "                'buy',\n",
    "                type='market')\n",
    "            self.submit_order(order)\n",
    "            self.last_trade='buy'\n",
    "broker = Alpaca(ALPACA_CREDS)\n",
    "strategy = MLTrader(name='mlstrat',broker=broker,parameters={'symbol':\"SPY\"})\n",
    "strategy.backtest(\n",
    "    YahooDataBacktesting,\n",
    "    start_date,\n",
    "    end_date,\n",
    "    parameters={'symbol':\"SPY\"}\n",
    ")\n"
   ]
  },
  {
   "cell_type": "code",
   "execution_count": null,
   "metadata": {},
   "outputs": [],
   "source": []
  }
 ],
 "metadata": {
  "kernelspec": {
   "display_name": "tgpu",
   "language": "python",
   "name": "python3"
  },
  "language_info": {
   "name": "python",
   "version": "3.10.13"
  }
 },
 "nbformat": 4,
 "nbformat_minor": 2
}
