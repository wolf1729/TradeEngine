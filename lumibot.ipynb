{
 "cells": [
  {
   "cell_type": "code",
   "execution_count": 1,
   "metadata": {},
   "outputs": [],
   "source": [
    "from lumibot.brokers import Alpaca\n"
   ]
  },
  {
   "cell_type": "code",
   "execution_count": 2,
   "metadata": {},
   "outputs": [
    {
     "name": "stderr",
     "output_type": "stream",
     "text": [
      "c:\\Program Files\\Python311\\Lib\\site-packages\\tqdm\\auto.py:21: TqdmWarning: IProgress not found. Please update jupyter and ipywidgets. See https://ipywidgets.readthedocs.io/en/stable/user_install.html\n",
      "  from .autonotebook import tqdm as notebook_tqdm\n"
     ]
    },
    {
     "data": {
      "text/plain": [
       "True"
      ]
     },
     "execution_count": 2,
     "metadata": {},
     "output_type": "execute_result"
    }
   ],
   "source": [
    "from lumibot.backtesting import YahooDataBacktesting\n",
    "from lumibot.strategies.strategy import Strategy\n",
    "from lumibot.traders import Trader\n",
    "from datetime import datetime \n",
    "from alpaca_trade_api import REST \n",
    "from timedelta import Timedelta \n",
    "from filbert_utils import estimate_sentiment\n",
    "import os\n",
    "from dotenv import load_dotenv\n",
    "load_dotenv()"
   ]
  },
  {
   "cell_type": "code",
   "execution_count": 4,
   "metadata": {},
   "outputs": [
    {
     "name": "stdout",
     "output_type": "stream",
     "text": [
      "Starting backtest for MLTrader...\n",
      "Progress |\u001b[32m\u001b[0m| 100.00%  [Elapsed: 0:00:58 ETA: 0:00:00] Portfolio Val: 103,871.96\n",
      "Creating trades plot...\n",
      "\n",
      "Creating indicators plot...\n",
      "\n",
      "Creating tearsheet...\n"
     ]
    },
    {
     "data": {
      "text/plain": [
       "{'cagr': 0.3611668822152101,\n",
       " 'volatility': 0.048500001292698006,\n",
       " 'sharpe': 6.3652963944580065,\n",
       " 'max_drawdown': {'drawdown': 0.0031142784930469226,\n",
       "  'date': Timestamp('2023-12-07 09:30:00-0500', tz='America/New_York')},\n",
       " 'romad': 115.9712861330698,\n",
       " 'total_return': 0.038719587231445196}"
      ]
     },
     "execution_count": 4,
     "metadata": {},
     "output_type": "execute_result"
    }
   ],
   "source": [
    "API_KEY = os.getenv(\"API_KEY\")\n",
    "API_SECRET = os.getenv(\"API_SECRET\")\n",
    "BASE_URL = os.getenv(\"BASE_URL\")\n",
    "\n",
    "ALPACA_CREDS = {\n",
    "    \"API_KEY\": API_KEY,\n",
    "    \"API_SECRET\": API_SECRET,\n",
    "    \"PAPER\": True\n",
    "}\n",
    "\n",
    "class MLTrader(Strategy):\n",
    "    def initialize(self,symbols=[\"SPY\"], cash_at_risk: float=0.5): #initialize method will run once\n",
    "        self.symbols = symbols\n",
    "        self.sleeptime = \"24H\" #how frequently we are gonna trade\n",
    "        self.last_trade = {symbol: None for symbol in symbols} #capture what the last trade is to undo our buys\n",
    "        self.cash_at_risk = cash_at_risk\n",
    "        self.api=REST(key_id=API_KEY,secret_key=API_SECRET,base_url=BASE_URL)\n",
    "\n",
    "    def position_sizing(self,symbol):\n",
    "        cash = self.get_cash()\n",
    "        last_price = self.get_last_price(symbol)\n",
    "        quantity = round(cash * self.cash_at_risk / last_price,0) #how much cash balance we use per trade\n",
    "        return cash,last_price, quantity\n",
    "    \n",
    "    def get_dates(self):\n",
    "        \n",
    "        today = self.get_datetime()\n",
    "        three_days_prior = today - Timedelta(days=3)\n",
    "        return today.strftime('%Y-%m-%d'), three_days_prior.strftime('%Y-%m-%d')\n",
    "    \n",
    "    def get_sentiment(self):\n",
    "        today,three_days_prior = self.get_dates()\n",
    "        news = self.api.get_news(symbol=self.symbols[0], start=three_days_prior, end=today)    \n",
    "        news=[ev.__dict__[\"_raw\"][\"headline\"] for ev in news]\n",
    "        probablity, sentiment = estimate_sentiment(news)\n",
    "        return probablity, sentiment\n",
    "\n",
    "    def on_trading_iteration(self): #everytime we get a new data, execute the trade\n",
    "        for symbol in self.symbols:\n",
    "            cash, last_price, quantity = self.position_sizing(symbol)\n",
    "            probablity, sentiment = self.get_sentiment()\n",
    "            \n",
    "            if cash > last_price:\n",
    "                if sentiment == \"positive\" and probablity > .999:\n",
    "                    if self.last_trade[symbol] == \"sell\":\n",
    "                        self.sell_all(symbol)\n",
    "                    \n",
    "                    order = self.create_order(\n",
    "                        symbol,\n",
    "                        quantity,\n",
    "                        \"buy\",\n",
    "                        type=\"bracket\", \n",
    "                        take_profit_price=last_price * 1.05,\n",
    "                        stop_loss_price=last_price * 0.95\n",
    "                    )\n",
    "                    self.submit_order(order)\n",
    "                    self.last_trade[symbol] = \"buy\" \n",
    "                \n",
    "            elif sentiment == \"negative\" and probablity > .999:\n",
    "                if self.last_trade[symbol] == \"sell\":\n",
    "                    self.sell_all(symbol)\n",
    "                    \n",
    "                order = self.create_order(\n",
    "                    symbol,\n",
    "                    quantity,\n",
    "                    \"sell\",\n",
    "                    type=\"bracket\", \n",
    "                    take_profit_price=last_price * 0.8,\n",
    "                    stop_loss_price=last_price * 1.05\n",
    "                )\n",
    "                self.submit_order(order)\n",
    "                self.last_trade[symbol] = \"sell\"    \n",
    "\n",
    "\n",
    "start_date = datetime(2023,11,15)\n",
    "end_date = datetime(2023,12,31)\n",
    "symbols = [\"SPY\"] \n",
    "\n",
    "broker = Alpaca(ALPACA_CREDS)\n",
    "strategy = MLTrader(name='mlstrat', broker=broker)\n",
    "strategy.initialize(symbols=symbols, cash_at_risk=0.5)\n",
    "\n",
    "\n",
    "strategy.backtest(\n",
    "    YahooDataBacktesting,\n",
    "    start_date,\n",
    "    end_date,\n",
    "    parameters={\"symbols\": symbols}\n",
    ")"
   ]
  }
 ],
 "metadata": {
  "kernelspec": {
   "display_name": "Python 3",
   "language": "python",
   "name": "python3"
  },
  "language_info": {
   "codemirror_mode": {
    "name": "ipython",
    "version": 3
   },
   "file_extension": ".py",
   "mimetype": "text/x-python",
   "name": "python",
   "nbconvert_exporter": "python",
   "pygments_lexer": "ipython3",
   "version": "3.11.9"
  }
 },
 "nbformat": 4,
 "nbformat_minor": 2
}
