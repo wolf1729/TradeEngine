{
 "cells": [
  {
   "cell_type": "code",
   "execution_count": 2,
   "metadata": {},
   "outputs": [],
   "source": [
    "import pandas as pd\n",
    "import gym\n",
    "import gym_anytrading\n",
    "from gym_anytrading.datasets import FOREX_EURUSD_1H_ASK, STOCKS_GOOGL"
   ]
  },
  {
   "cell_type": "code",
   "execution_count": 3,
   "metadata": {},
   "outputs": [
    {
     "name": "stdout",
     "output_type": "stream",
     "text": [
      "  Timestamp    Asset   Price  Volume  Sentiment_Score  Economic_Indicator1  \\\n",
      "0   18:27.4  Asset_1  992.55     335             0.75               399.92   \n",
      "1   18:27.4  Asset_2  362.57     256             0.40               825.12   \n",
      "2   18:27.4  Asset_3  868.29     296             0.89               610.86   \n",
      "3   18:27.4  Asset_4  262.93     404             0.40               337.55   \n",
      "4   18:27.4  Asset_5  796.55     235             0.79               117.45   \n",
      "\n",
      "   Economic_Indicator2  Risk_Factor1  Risk_Factor2 Order          Strategy  \\\n",
      "0              1067.00          0.05          0.34  sell  Position Trading   \n",
      "1               728.60          0.23          0.94   buy          Scalping   \n",
      "2               968.72          0.07          0.81   buy     Swing Trading   \n",
      "3              1440.47          0.09          0.24   buy          Scalping   \n",
      "4              1483.75          0.38          0.79   buy       Day Trading   \n",
      "\n",
      "   Portfolio_Weights  Return  Volatility  Sharpe_Ratio  \n",
      "0               0.11  0.0356      0.2653          0.52  \n",
      "1               0.54  0.0417      0.2978          0.31  \n",
      "2               0.19  0.0243      0.1851          0.25  \n",
      "3               0.44 -0.0282      0.4344          0.51  \n",
      "4               0.28  0.0219      0.1090          0.22  \n"
     ]
    }
   ],
   "source": [
    "df = pd.read_csv('Dataset.csv')\n",
    "print(df.head())"
   ]
  },
  {
   "cell_type": "code",
   "execution_count": 1,
   "metadata": {},
   "outputs": [
    {
     "name": "stdout",
     "output_type": "stream",
     "text": [
      "Original Data:\n",
      "  Timestamp    Asset   Price  Volume  Sentiment_Score  Economic_Indicator1  \\\n",
      "0   18:27.4  Asset_1  992.55     335             0.75               399.92   \n",
      "1   18:27.4  Asset_2  362.57     256             0.40               825.12   \n",
      "2   18:27.4  Asset_3  868.29     296             0.89               610.86   \n",
      "3   18:27.4  Asset_4  262.93     404             0.40               337.55   \n",
      "4   18:27.4  Asset_5  796.55     235             0.79               117.45   \n",
      "\n",
      "   Economic_Indicator2  Risk_Factor1  Risk_Factor2 Order          Strategy  \\\n",
      "0              1067.00          0.05          0.34  sell  Position Trading   \n",
      "1               728.60          0.23          0.94   buy          Scalping   \n",
      "2               968.72          0.07          0.81   buy     Swing Trading   \n",
      "3              1440.47          0.09          0.24   buy          Scalping   \n",
      "4              1483.75          0.38          0.79   buy       Day Trading   \n",
      "\n",
      "   Portfolio_Weights  Return  Volatility  Sharpe_Ratio  \n",
      "0               0.11  0.0356      0.2653          0.52  \n",
      "1               0.54  0.0417      0.2978          0.31  \n",
      "2               0.19  0.0243      0.1851          0.25  \n",
      "3               0.44 -0.0282      0.4344          0.51  \n",
      "4               0.28  0.0219      0.1090          0.22  \n",
      "\n",
      "Cleaned Data:\n",
      "  Timestamp    Asset   Price  Volume  Sentiment_Score  Economic_Indicator1  \\\n",
      "0   18:27.4  Asset_1  992.55     335             0.75               399.92   \n",
      "1   18:27.4  Asset_2  362.57     256             0.40               825.12   \n",
      "2   18:27.4  Asset_3  868.29     296             0.89               610.86   \n",
      "3   18:27.4  Asset_4  262.93     404             0.40               337.55   \n",
      "4   18:27.4  Asset_5  796.55     235             0.79               117.45   \n",
      "\n",
      "   Economic_Indicator2  Risk_Factor1  Risk_Factor2 Order          Strategy  \\\n",
      "0              1067.00          0.05          0.34  sell  Position Trading   \n",
      "1               728.60          0.23          0.94   buy          Scalping   \n",
      "2               968.72          0.07          0.81   buy     Swing Trading   \n",
      "3              1440.47          0.09          0.24   buy          Scalping   \n",
      "4              1483.75          0.38          0.79   buy       Day Trading   \n",
      "\n",
      "   Portfolio_Weights  Return  Volatility  Sharpe_Ratio  \n",
      "0               0.11  0.0356      0.2653          0.52  \n",
      "1               0.54  0.0417      0.2978          0.31  \n",
      "2               0.19  0.0243      0.1851          0.25  \n",
      "3               0.44 -0.0282      0.4344          0.51  \n",
      "4               0.28  0.0219      0.1090          0.22  \n"
     ]
    }
   ],
   "source": [
    "\n",
    "\n",
    "# Read the CSV file into a DataFrame\n",
    "original_df = pd.read_csv('Dataset.csv')\n",
    "\n",
    "# Create a copy of the original DataFrame\n",
    "df = original_df.copy()\n",
    "\n",
    "# Inspect the data before cleaning\n",
    "print(\"Original Data:\")\n",
    "print(df.head())\n",
    "\n",
    "# Handle missing values\n",
    "df.dropna(inplace=True)  # Drop rows with any missing values\n",
    "\n",
    "# Standardize formats\n",
    "# Example: Convert date columns to datetime format\n",
    "# df['date_column'] = pd.to_datetime(df['date_column'])\n",
    "\n",
    "# Remove duplicates\n",
    "df.drop_duplicates(inplace=True)  # Remove duplicate rows\n",
    "\n",
    "# Correct errors\n",
    "# Example: Replace incorrect values\n",
    "# df['column_name'].replace({'old_value': 'new_value'}, inplace=True)\n",
    "\n",
    "# Normalize data\n",
    "# Example: Normalize numerical data\n",
    "# from sklearn.preprocessing import MinMaxScaler\n",
    "# scaler = MinMaxScaler()\n",
    "# df['numeric_column'] = scaler.fit_transform(df[['numeric_column']])\n",
    "\n",
    "# Handle outliers\n",
    "# Example: Remove outliers\n",
    "# df = df[(df['numeric_column'] > lower_bound) & (df['numeric_column'] < upper_bound)]\n",
    "\n",
    "# Display the cleaned data\n",
    "print(\"\\nCleaned Data:\")\n",
    "print(df.head())\n",
    "\n",
    "# Export the cleaned data\n",
    "df.to_csv('cleaned_data.csv', index=False)\n"
   ]
  },
  {
   "cell_type": "code",
   "execution_count": 3,
   "metadata": {},
   "outputs": [
    {
     "name": "stdout",
     "output_type": "stream",
     "text": [
      "The cleaned data is equal to the original data.\n"
     ]
    }
   ],
   "source": [
    "import pandas as pd\n",
    "\n",
    "# Read the original and cleaned CSV files into DataFrames\n",
    "original_df = pd.read_csv('Dataset.csv')\n",
    "cleaned_df = pd.read_csv('cleaned_data.csv')\n",
    "\n",
    "# Check if the DataFrames are equal\n",
    "data_equal = original_df.equals(cleaned_df)\n",
    "\n",
    "if data_equal:\n",
    "    print(\"The cleaned data is equal to the original data.\")\n",
    "else:\n",
    "    print(\"The cleaned data is not equal to the original data.\")\n"
   ]
  },
  {
   "cell_type": "code",
   "execution_count": 2,
   "metadata": {},
   "outputs": [
    {
     "ename": "NameError",
     "evalue": "name 'gym' is not defined",
     "output_type": "error",
     "traceback": [
      "\u001b[1;31m---------------------------------------------------------------------------\u001b[0m",
      "\u001b[1;31mNameError\u001b[0m                                 Traceback (most recent call last)",
      "Cell \u001b[1;32mIn[2], line 5\u001b[0m\n\u001b[0;32m      2\u001b[0m your_data \u001b[38;5;241m=\u001b[39m pd\u001b[38;5;241m.\u001b[39mread_csv(\u001b[38;5;124m'\u001b[39m\u001b[38;5;124mDataset.csv\u001b[39m\u001b[38;5;124m'\u001b[39m)\n\u001b[0;32m      4\u001b[0m \u001b[38;5;66;03m# Create a Gym Trading Environment with your own data\u001b[39;00m\n\u001b[1;32m----> 5\u001b[0m custom_env \u001b[38;5;241m=\u001b[39m \u001b[43mgym\u001b[49m\u001b[38;5;241m.\u001b[39mmake(\n\u001b[0;32m      6\u001b[0m     \u001b[38;5;124m'\u001b[39m\u001b[38;5;124mforex-v0\u001b[39m\u001b[38;5;124m'\u001b[39m,\n\u001b[0;32m      7\u001b[0m     df\u001b[38;5;241m=\u001b[39myour_data,  \u001b[38;5;66;03m# Pass your DataFrame here\u001b[39;00m\n\u001b[0;32m      8\u001b[0m     window_size\u001b[38;5;241m=\u001b[39m\u001b[38;5;241m10\u001b[39m,\n\u001b[0;32m      9\u001b[0m     frame_bound\u001b[38;5;241m=\u001b[39m(\u001b[38;5;241m10\u001b[39m, \u001b[38;5;241m300\u001b[39m),\n\u001b[0;32m     10\u001b[0m     unit_side\u001b[38;5;241m=\u001b[39m\u001b[38;5;124m'\u001b[39m\u001b[38;5;124mright\u001b[39m\u001b[38;5;124m'\u001b[39m\n\u001b[0;32m     11\u001b[0m )\n\u001b[0;32m     13\u001b[0m \u001b[38;5;66;03m# Print information about the custom environment\u001b[39;00m\n\u001b[0;32m     14\u001b[0m \u001b[38;5;28mprint\u001b[39m(\u001b[38;5;124m\"\u001b[39m\u001b[38;5;124mcustom_env information:\u001b[39m\u001b[38;5;124m\"\u001b[39m)\n",
      "\u001b[1;31mNameError\u001b[0m: name 'gym' is not defined"
     ]
    }
   ],
   "source": [
    "\n",
    "\n",
    "# Load your own data into a tra\n",
    "your_data = pd.read_csv('Dataset.csv')\n",
    "\n",
    "# Create a Gym Trading Environment with your own data\n",
    "custom_env = gym.make(\n",
    "    'forex-v0',\n",
    "    df=your_data,  # Pass your DataFrame here\n",
    "    window_size=10,\n",
    "    frame_bound=(10, 300),\n",
    "    unit_side='right'\n",
    ")\n",
    "\n",
    "# Print information about the custom environment\n",
    "print(\"custom_env information:\")\n",
    "print(\"> shape:\", custom_env.unwrapped.shape)\n",
    "print(\"> df.shape:\", custom_env.unwrapped.df.shape)\n",
    "print(\"> prices.shape:\", custom_env.unwrapped.prices.shape)\n",
    "print(\"> signal_features.shape:\", custom_env.unwrapped.signal_features.shape)\n",
    "print(\"> max_possible_profit:\", custom_env.unwrapped.max_possible_profit())\n"
   ]
  }
 ],
 "metadata": {
  "kernelspec": {
   "display_name": "Python 3",
   "language": "python",
   "name": "python3"
  },
  "language_info": {
   "codemirror_mode": {
    "name": "ipython",
    "version": 3
   },
   "file_extension": ".py",
   "mimetype": "text/x-python",
   "name": "python",
   "nbconvert_exporter": "python",
   "pygments_lexer": "ipython3",
   "version": "3.10.13"
  }
 },
 "nbformat": 4,
 "nbformat_minor": 2
}
